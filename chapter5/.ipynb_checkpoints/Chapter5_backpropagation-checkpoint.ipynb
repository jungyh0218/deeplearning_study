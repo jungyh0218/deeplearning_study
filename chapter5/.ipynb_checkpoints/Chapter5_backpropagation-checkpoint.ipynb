{
 "cells": [
  {
   "cell_type": "code",
   "execution_count": 1,
   "metadata": {},
   "outputs": [],
   "source": [
    "import numpy as np"
   ]
  },
  {
   "cell_type": "code",
   "execution_count": 2,
   "metadata": {},
   "outputs": [],
   "source": [
    "#모든 계층은 앞으로 넘겨주는(순전파) forward, 뒤로 넘겨주는(역전파) backward 메소드를 갖도록 구현됩니다.\n",
    "import abc\n",
    "\n",
    "class BaseLayer:\n",
    "    __metaclass__ = abc.ABCMeta\n",
    "    \n",
    "    @abc.abstractmethod\n",
    "    def forward(self, x, y):\n",
    "        pass\n",
    "    \n",
    "    @abc.abstractmethod\n",
    "    def backward(self, dout=None):\n",
    "        pass"
   ]
  },
  {
   "cell_type": "code",
   "execution_count": 3,
   "metadata": {},
   "outputs": [],
   "source": [
    "#Multiplication Layer\n",
    "class MulLayer(BaseLayer):\n",
    "    def __init__(self):\n",
    "        self.x = None\n",
    "        self.y = None\n",
    "    \n",
    "    def forward(self, x, y):\n",
    "        self.x = x\n",
    "        self.y = y\n",
    "        out = x * y\n",
    "        \n",
    "        return out\n",
    "    \n",
    "    def backward(self, dout):\n",
    "        dx = dout * self.y\n",
    "        dy = dout * self.x\n",
    "        \n",
    "        return dx, dy    "
   ]
  },
  {
   "cell_type": "code",
   "execution_count": 4,
   "metadata": {},
   "outputs": [],
   "source": [
    "#Summation Layer\n",
    "class AddLayer(BaseLayer):\n",
    "    def __init__(self):\n",
    "        self.x = None\n",
    "        self.y = None\n",
    "    \n",
    "    def forward(self, x, y):\n",
    "        self.x = x\n",
    "        self.y = y\n",
    "        out = x + y\n",
    "        return out\n",
    "    \n",
    "    def backward(self, dout):\n",
    "        dx = dout * 1\n",
    "        dy = dout * 1\n",
    "        return dx, dy\n"
   ]
  },
  {
   "cell_type": "code",
   "execution_count": 5,
   "metadata": {},
   "outputs": [],
   "source": [
    "#사과 2개\n",
    "apple = 100\n",
    "apple_num = 2\n",
    "\n",
    "#오렌지 3개\n",
    "orange = 150\n",
    "orange_num = 3\n",
    "\n",
    "#부가세 10%\n",
    "tax = 1.1"
   ]
  },
  {
   "cell_type": "code",
   "execution_count": 6,
   "metadata": {},
   "outputs": [
    {
     "name": "stdout",
     "output_type": "stream",
     "text": [
      "사과 2개와 오렌지 3개의 가격:  715.0000000000001 \\\n"
     ]
    }
   ],
   "source": [
    "#사과 2개와 오렌지 3개의 가격 계산\n",
    "\n",
    "mul_apple_layer = MulLayer()\n",
    "mul_orange_layer = MulLayer()\n",
    "add_apple_orange_layer = AddLayer()\n",
    "mul_tax_layer = MulLayer()\n",
    "\n",
    "apple_price = mul_apple_layer.forward(apple, apple_num)\n",
    "orange_price = mul_orange_layer.forward(orange, orange_num)\n",
    "all_price = add_apple_orange_layer.forward(apple_price, orange_price)\n",
    "final_price = mul_tax_layer.forward(all_price, tax)\n",
    "\n",
    "print('사과 2개와 오렌지 3개의 가격: ', final_price, '\\\\')"
   ]
  },
  {
   "cell_type": "code",
   "execution_count": 16,
   "metadata": {},
   "outputs": [
    {
     "name": "stdout",
     "output_type": "stream",
     "text": [
      "dall_price, dtax:  1.1 650\n",
      "sum node backpropagation output: 1.1 1.1\n",
      "apple backpropagation: 2.2 110.00000000000001\n",
      "orange backpropagation: 3.3000000000000003 165.0\n",
      "dapple_num, dapple, dorange, dornage_num, dtax:  110.00000000000001 2.2 3.3000000000000003 165.0 650\n"
     ]
    }
   ],
   "source": [
    "# backpropagation example\n",
    "\n",
    "dprice = 1\n",
    "\n",
    "dall_price, dtax = mul_tax_layer.backward(dprice)\n",
    "dapple_price, dorange_price = add_apple_orange_layer.backward(dall_price)\n",
    "dorange, dorange_num = mul_orange_layer.backward(dorange_price)\n",
    "dapple, dapple_num = mul_apple_layer.backward(dapple_price)\n",
    "\n",
    "\n",
    "print('dall_price, dtax: ', dall_price, dtax)\n",
    "print('sum node backpropagation output:', dapple_price, dorange_price)\n",
    "print('apple backpropagation:', dapple, dapple_num)\n",
    "print('orange backpropagation:', dorange, dorange_num)\n",
    "\n",
    "print('dapple_num, dapple, dorange, dornage_num, dtax: ', dapple_num, dapple, dorange, dorange_num, dtax)"
   ]
  },
  {
   "cell_type": "code",
   "execution_count": null,
   "metadata": {},
   "outputs": [],
   "source": []
  },
  {
   "cell_type": "code",
   "execution_count": null,
   "metadata": {},
   "outputs": [],
   "source": []
  }
 ],
 "metadata": {
  "kernelspec": {
   "display_name": "Python 3",
   "language": "python",
   "name": "python3"
  },
  "language_info": {
   "codemirror_mode": {
    "name": "ipython",
    "version": 3
   },
   "file_extension": ".py",
   "mimetype": "text/x-python",
   "name": "python",
   "nbconvert_exporter": "python",
   "pygments_lexer": "ipython3",
   "version": "3.7.1"
  }
 },
 "nbformat": 4,
 "nbformat_minor": 2
}
